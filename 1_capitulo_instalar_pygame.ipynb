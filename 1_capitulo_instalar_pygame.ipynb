{
 "cells": [
  {
   "cell_type": "markdown",
   "id": "8ed02e5b",
   "metadata": {
    "slideshow": {
     "slide_type": "slide"
    }
   },
   "source": [
    "<table align=\"left\">\n",
    "  <td>\n",
    "    <a href=\"https://colab.research.google.com/github/marco-canas/10_pygame/blob/main/1_capitulo_instalar_pygame.ipynb\" target=\"_parent\"><img src=\"https://colab.research.google.com/assets/colab-badge.svg\" alt=\"Open In Colab\"/></a>\n",
    "  </td>\n",
    "</table>"
   ]
  },
  {
   "cell_type": "markdown",
   "id": "bd59549f",
   "metadata": {
    "slideshow": {
     "slide_type": "slide"
    }
   },
   "source": [
    "## [Video de apoyo a la lectura de este cuaderno Jupyter]()"
   ]
  },
  {
   "cell_type": "markdown",
   "id": "78044697",
   "metadata": {
    "slideshow": {
     "slide_type": "slide"
    }
   },
   "source": [
    "# [INSTALAR PYGAME y crear la primera ventana de JUEGO - Pygame de cero - Capítulo 1](https://www.youtube.com/watch?v=5v_Jl6tMU68&list=PLVzwufPir356RMxSsOccc38jmxfxqfBdp)"
   ]
  },
  {
   "cell_type": "markdown",
   "id": "c40b6ea6",
   "metadata": {
    "slideshow": {
     "slide_type": "slide"
    }
   },
   "source": [
    "Empiece instalando Pycharm community que es gratuito y de código abierto. "
   ]
  },
  {
   "cell_type": "markdown",
   "id": "390e4d6d",
   "metadata": {
    "slideshow": {
     "slide_type": "slide"
    }
   },
   "source": [
    "Puedes utilizar cualquiera de tus IDE favoritas para programar. "
   ]
  },
  {
   "cell_type": "markdown",
   "id": "960de363",
   "metadata": {
    "slideshow": {
     "slide_type": "slide"
    }
   },
   "source": [
    "Creas un nuevo proyecto que puedes llamar juego"
   ]
  },
  {
   "cell_type": "markdown",
   "id": "584243d9",
   "metadata": {
    "slideshow": {
     "slide_type": "slide"
    }
   },
   "source": [
    "Luego descargas pygame a través de la terminal asociada a pycharm \n",
    "\n",
    "* escribes pip install pygame "
   ]
  },
  {
   "cell_type": "code",
   "execution_count": 1,
   "id": "0dbeec13",
   "metadata": {
    "slideshow": {
     "slide_type": "slide"
    }
   },
   "outputs": [
    {
     "name": "stdout",
     "output_type": "stream",
     "text": [
      "pygame 2.1.2 (SDL 2.0.18, Python 3.9.13)\n",
      "Hello from the pygame community. https://www.pygame.org/contribute.html\n"
     ]
    }
   ],
   "source": [
    "import pygame, sys "
   ]
  },
  {
   "cell_type": "code",
   "execution_count": 2,
   "id": "78974779",
   "metadata": {
    "slideshow": {
     "slide_type": "slide"
    }
   },
   "outputs": [],
   "source": [
    "from pygame.locals import * "
   ]
  },
  {
   "cell_type": "code",
   "execution_count": 3,
   "id": "accc333e",
   "metadata": {
    "slideshow": {
     "slide_type": "slide"
    }
   },
   "outputs": [
    {
     "data": {
      "text/plain": [
       "(5, 0)"
      ]
     },
     "execution_count": 3,
     "metadata": {},
     "output_type": "execute_result"
    }
   ],
   "source": [
    "pygame.init() "
   ]
  },
  {
   "cell_type": "code",
   "execution_count": 6,
   "id": "dcfdc82b",
   "metadata": {
    "slideshow": {
     "slide_type": "slide"
    }
   },
   "outputs": [],
   "source": [
    "PANTALLA = pygame.display.set_mode((500, 400))  # crea la pantalla de juego "
   ]
  },
  {
   "cell_type": "code",
   "execution_count": null,
   "id": "778d68dd",
   "metadata": {
    "slideshow": {
     "slide_type": "slide"
    }
   },
   "outputs": [],
   "source": []
  },
  {
   "cell_type": "code",
   "execution_count": null,
   "id": "e7a435ef",
   "metadata": {
    "slideshow": {
     "slide_type": "slide"
    }
   },
   "outputs": [],
   "source": []
  },
  {
   "cell_type": "code",
   "execution_count": null,
   "id": "6841126e",
   "metadata": {},
   "outputs": [],
   "source": []
  },
  {
   "cell_type": "code",
   "execution_count": null,
   "id": "a1bafd27",
   "metadata": {},
   "outputs": [],
   "source": []
  }
 ],
 "metadata": {
  "celltoolbar": "Slideshow",
  "kernelspec": {
   "display_name": "Python 3 (ipykernel)",
   "language": "python",
   "name": "python3"
  },
  "language_info": {
   "codemirror_mode": {
    "name": "ipython",
    "version": 3
   },
   "file_extension": ".py",
   "mimetype": "text/x-python",
   "name": "python",
   "nbconvert_exporter": "python",
   "pygments_lexer": "ipython3",
   "version": "3.9.13"
  }
 },
 "nbformat": 4,
 "nbformat_minor": 5
}
